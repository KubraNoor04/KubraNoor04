{
  "nbformat": 4,
  "nbformat_minor": 0,
  "metadata": {
    "colab": {
      "provenance": []
    },
    "kernelspec": {
      "name": "python3",
      "display_name": "Python 3"
    },
    "language_info": {
      "name": "python"
    }
  },
  "cells": [
    {
      "cell_type": "code",
      "source": [
        "import pandas as pd\n",
        "from sklearn.model_selection import train_test_split\n",
        "from sklearn.linear_model import LogisticRegression\n",
        "from sklearn.metrics import accuracy_score, classification_report"
      ],
      "metadata": {
        "id": "VPkf7hpV3pE4"
      },
      "execution_count": 2,
      "outputs": []
    },
    {
      "cell_type": "code",
      "execution_count": 5,
      "metadata": {
        "colab": {
          "base_uri": "https://localhost:8080/"
        },
        "id": "ADfnQMIu3SiS",
        "outputId": "12e06f7a-e42f-4ab1-fa7e-07670a8e6fff"
      },
      "outputs": [
        {
          "output_type": "stream",
          "name": "stdout",
          "text": [
            "Test example:\n",
            "     age  sex  cp  trestbps  chol  fbs  restecg  thalach  exang  oldpeak  \\\n",
            "527   62    0   0       124   209    0        1      163      0      0.0   \n",
            "\n",
            "     slope  ca  thal  \n",
            "527      2   0     2  \n",
            "The accuracy of the model is:  0.7853658536585366\n",
            "Classification Report:\n",
            "              precision    recall  f1-score   support\n",
            "\n",
            "           0       0.85      0.70      0.76       102\n",
            "           1       0.74      0.87      0.80       103\n",
            "\n",
            "    accuracy                           0.79       205\n",
            "   macro avg       0.79      0.78      0.78       205\n",
            "weighted avg       0.79      0.79      0.78       205\n",
            "\n"
          ]
        },
        {
          "output_type": "stream",
          "name": "stderr",
          "text": [
            "/usr/local/lib/python3.10/dist-packages/sklearn/linear_model/_logistic.py:458: ConvergenceWarning: lbfgs failed to converge (status=1):\n",
            "STOP: TOTAL NO. of ITERATIONS REACHED LIMIT.\n",
            "\n",
            "Increase the number of iterations (max_iter) or scale the data as shown in:\n",
            "    https://scikit-learn.org/stable/modules/preprocessing.html\n",
            "Please also refer to the documentation for alternative solver options:\n",
            "    https://scikit-learn.org/stable/modules/linear_model.html#logistic-regression\n",
            "  n_iter_i = _check_optimize_result(\n"
          ]
        }
      ],
      "source": [
        "\n",
        "\n",
        "# Load the dataset\n",
        "data = pd.read_csv('/content/heart.csv')\n",
        "\n",
        "# Separate features and target variable\n",
        "x = data.drop('target', axis=1)\n",
        "y = data['target']\n",
        "\n",
        "# Split the data into training and testing sets\n",
        "x_train, x_test, y_train, y_test = train_test_split(x, y, test_size=0.2, random_state=42)\n",
        "\n",
        "# Create and train the logistic regression model\n",
        "model = LogisticRegression()\n",
        "model.fit(x_train, y_train)\n",
        "\n",
        "# Select a single test example\n",
        "test = x_test.head(1)\n",
        "print(\"Test example:\")\n",
        "print(test)\n",
        "\n",
        "# Make predictions on the test set\n",
        "y_pred = model.predict(x_test)\n",
        "\n",
        "# Calculate and print the accuracy of the model\n",
        "accuracy = accuracy_score(y_test, y_pred)\n",
        "print(\"The accuracy of the model is: \", accuracy)\n",
        "\n",
        "# Print the classification report\n",
        "classification = classification_report(y_test, y_pred)\n",
        "print(\"Classification Report:\")\n",
        "print(classification)\n"
      ]
    }
  ]
}